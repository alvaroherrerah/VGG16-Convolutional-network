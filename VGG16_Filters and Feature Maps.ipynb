{
 "cells": [
  {
   "cell_type": "code",
   "outputs": [],
   "source": [
    "# filters\n",
    "def plot_conv_weights(model, layer_name):\n",
    "    # Asumir que layer_name es el nombre de una capa convolucional\n",
    "    layer = model.get_layer(name=layer_name)\n",
    "    filters, biases = layer.get_weights()\n",
    "    f_min, f_max = filters.min(), filters.max()\n",
    "    filters = (filters - f_min) / (f_max - f_min)  # normalizar los filtros\n",
    "\n",
    "    n_filters = 6  # número de filtros para visualizar\n",
    "    ix = 1\n",
    "    fig = plt.figure(figsize=(20, 15))\n",
    "    for i in range(n_filters):\n",
    "        f = filters[:, :, :, i]\n",
    "        for j in range(3):  # asumir que los filtros tienen 3 canales\n",
    "            ax = fig.add_subplot(n_filters, 3, ix)\n",
    "            ax.imshow(f[:, :, j], cmap='gray')  # plotear cada canal individualmente\n",
    "            ax.axis('off')\n",
    "            ix += 1\n",
    "    plt.show()\n",
    "\n",
    "# Ejemplo de uso:\n",
    "plot_conv_weights(model, 'conv2d_12')"
   ],
   "metadata": {
    "collapsed": false
   },
   "id": "7622efcf6f4b257c"
  },
  {
   "cell_type": "code",
   "execution_count": null,
   "id": "initial_id",
   "metadata": {
    "collapsed": true
   },
   "outputs": [],
   "source": [
    "# maps\n",
    "from keras.preprocessing.image import load_img, img_to_array\n",
    "from keras.models import Model\n",
    "from matplotlib import pyplot\n",
    "from numpy import expand_dims\n",
    "\n",
    "# Asumiendo que 'model' ya está definido y cargado\n",
    "from keras.models import load_model\n",
    "model = load_model(\"vgg16.keras\")\n",
    "\n",
    "ixs = [3, 6, 10, 14, 18]\n",
    "outputs = [model.layers[i].output for i in ixs]\n",
    "model = Model(inputs=model.inputs, outputs=outputs)\n",
    "\n",
    "# Cargar y preparar la imagen\n",
    "img = load_img('image.jpg', target_size=(224, 224))\n",
    "img = img_to_array(img)\n",
    "img = expand_dims(img, axis=0)\n",
    "\n",
    "# Obtener los mapas de características\n",
    "feature_maps = model.predict(img)\n",
    "\n",
    "# Imprimir las formas de cada mapa de características para diagnóstico\n",
    "for fmap in feature_maps:\n",
    "    print(fmap.shape)\n",
    "\n",
    "# Asumir que square es correcto según el mínimo número de filtros en las capas seleccionadas\n",
    "# Si alguna capa tiene menos de 64 filtros, necesitarás ajustar este valor\n",
    "square = 8\n",
    "\n",
    "# Código de visualización, ajustando según los datos de formas\n",
    "for fmap in feature_maps:\n",
    "    ix = 1\n",
    "    pyplot.figure(figsize=(12,12))\n",
    "    num_filters = fmap.shape[-1]\n",
    "    for _ in range(min(square, num_filters)):\n",
    "        for _ in range(min(square, num_filters)):\n",
    "            ax = pyplot.subplot(square, square, ix)\n",
    "            ax.set_xticks([])\n",
    "            ax.set_yticks([])\n",
    "            pyplot.imshow(fmap[0, :, :, ix-1], cmap='gray')\n",
    "            if ix < num_filters:  # Asegura no ir más allá del número de filtros en la capa\n",
    "                ix += 1\n",
    "    pyplot.show()"
   ]
  }
 ],
 "metadata": {
  "kernelspec": {
   "display_name": "Python 3",
   "language": "python",
   "name": "python3"
  },
  "language_info": {
   "codemirror_mode": {
    "name": "ipython",
    "version": 2
   },
   "file_extension": ".py",
   "mimetype": "text/x-python",
   "name": "python",
   "nbconvert_exporter": "python",
   "pygments_lexer": "ipython2",
   "version": "2.7.6"
  }
 },
 "nbformat": 4,
 "nbformat_minor": 5
}
